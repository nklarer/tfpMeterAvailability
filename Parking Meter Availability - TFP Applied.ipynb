{
 "cells": [
  {
   "cell_type": "markdown",
   "metadata": {},
   "source": [
    "<h1>Parking Meter Availability - TFP HMC Applied</h1>"
   ]
  },
  {
   "cell_type": "markdown",
   "metadata": {},
   "source": [
    "<h3>Introduction: </h3>"
   ]
  },
  {
   "cell_type": "markdown",
   "metadata": {},
   "source": [
    "<p>You live in beautiful downtown San Diego, CA.  Unfortunately, your apartment does not provide parking and so you are forced to use the parking meter in front of your building.  Over the past year, it seems like the parking meter is very busy. You want to determine how likely the parking traffic of this particular year represents the true distribution of parkers at your meter. If it does, you will consider moving from your apartment.\n",
    "\n",
    "<p>To perform the analysis, you can use an open dataset from the City of San Diego Open Data Portal: https://data.sandiego.gov/</p>"
   ]
  },
  {
   "cell_type": "markdown",
   "metadata": {},
   "source": [
    "<p><i>Import a series of data science libraries. TF, TFP & Edward are used for the probabilistic modeling, and a set of standard data science libaries for plotting and data manipulation (Pandas, Numpy, Pyplot, Seaborn):</i></p>"
   ]
  },
  {
   "cell_type": "code",
   "execution_count": 14,
   "metadata": {
    "collapsed": false,
    "scrolled": false
   },
   "outputs": [],
   "source": [
    "%matplotlib inline\n",
    "\n",
    "# Dependency imports\n",
    "\n",
    "import numpy as np\n",
    "import tensorflow as tf\n",
    "import tensorflow_probability as tfp\n",
    "from tensorflow_probability import edward2 as ed\n",
    "import warnings\n",
    "import pandas as pd\n",
    "import matplotlib.pyplot as plt\n",
    "from datetime import datetime\n",
    "import warnings\n",
    "import seaborn as sns\n",
    "\n",
    "plt.style.use(\"seaborn-pastel\")\n",
    "\n",
    "#Some versions of Python display deprecation warnings with the TFP install\n",
    "\n",
    "warnings.filterwarnings('ignore')"
   ]
  },
  {
   "cell_type": "markdown",
   "metadata": {},
   "source": [
    "Now, import your data set."
   ]
  },
  {
   "cell_type": "code",
   "execution_count": 6,
   "metadata": {
    "collapsed": false
   },
   "outputs": [
    {
     "data": {
      "text/html": [
       "<div>\n",
       "<style scoped>\n",
       "    .dataframe tbody tr th:only-of-type {\n",
       "        vertical-align: middle;\n",
       "    }\n",
       "\n",
       "    .dataframe tbody tr th {\n",
       "        vertical-align: top;\n",
       "    }\n",
       "\n",
       "    .dataframe thead th {\n",
       "        text-align: right;\n",
       "    }\n",
       "</style>\n",
       "<table border=\"1\" class=\"dataframe\">\n",
       "  <thead>\n",
       "    <tr style=\"text-align: right;\">\n",
       "      <th></th>\n",
       "      <th>id</th>\n",
       "      <th>uuid</th>\n",
       "      <th>pole_id</th>\n",
       "      <th>meter_type</th>\n",
       "      <th>trans_amt</th>\n",
       "      <th>pay_method</th>\n",
       "      <th>trans_start</th>\n",
       "      <th>meter_expire</th>\n",
       "      <th>zone</th>\n",
       "      <th>area</th>\n",
       "      <th>sub_area</th>\n",
       "      <th>config_id</th>\n",
       "      <th>config_name</th>\n",
       "      <th>longitude</th>\n",
       "      <th>latitude</th>\n",
       "    </tr>\n",
       "  </thead>\n",
       "  <tbody>\n",
       "    <tr>\n",
       "      <th>0</th>\n",
       "      <td>79</td>\n",
       "      <td>MSKT700W160101080515675</td>\n",
       "      <td>KT-700W</td>\n",
       "      <td>MS</td>\n",
       "      <td>675.0</td>\n",
       "      <td>CREDIT CARD</td>\n",
       "      <td>2016-01-01 08:05:15</td>\n",
       "      <td>2016-01-01 17:05:15</td>\n",
       "      <td>Downtown</td>\n",
       "      <td>Marina</td>\n",
       "      <td>700 KETTNER BLVD</td>\n",
       "      <td>13177</td>\n",
       "      <td>MSPM 9 Hour Max $0.75 HR 8am-6pm Mon-Sat</td>\n",
       "      <td>-117.169281</td>\n",
       "      <td>32.713603</td>\n",
       "    </tr>\n",
       "    <tr>\n",
       "      <th>1</th>\n",
       "      <td>119</td>\n",
       "      <td>MSKT700W160101084910675</td>\n",
       "      <td>KT-700W</td>\n",
       "      <td>MS</td>\n",
       "      <td>675.0</td>\n",
       "      <td>CREDIT CARD</td>\n",
       "      <td>2016-01-01 08:49:10</td>\n",
       "      <td>2016-01-01 17:49:10</td>\n",
       "      <td>Downtown</td>\n",
       "      <td>Marina</td>\n",
       "      <td>700 KETTNER BLVD</td>\n",
       "      <td>13177</td>\n",
       "      <td>MSPM 9 Hour Max $0.75 HR 8am-6pm Mon-Sat</td>\n",
       "      <td>-117.169281</td>\n",
       "      <td>32.713603</td>\n",
       "    </tr>\n",
       "  </tbody>\n",
       "</table>\n",
       "</div>"
      ],
      "text/plain": [
       "    id                     uuid  pole_id meter_type  trans_amt   pay_method  \\\n",
       "0   79  MSKT700W160101080515675  KT-700W         MS      675.0  CREDIT CARD   \n",
       "1  119  MSKT700W160101084910675  KT-700W         MS      675.0  CREDIT CARD   \n",
       "\n",
       "           trans_start         meter_expire      zone    area  \\\n",
       "0  2016-01-01 08:05:15  2016-01-01 17:05:15  Downtown  Marina   \n",
       "1  2016-01-01 08:49:10  2016-01-01 17:49:10  Downtown  Marina   \n",
       "\n",
       "           sub_area  config_id                               config_name  \\\n",
       "0  700 KETTNER BLVD      13177  MSPM 9 Hour Max $0.75 HR 8am-6pm Mon-Sat   \n",
       "1  700 KETTNER BLVD      13177  MSPM 9 Hour Max $0.75 HR 8am-6pm Mon-Sat   \n",
       "\n",
       "    longitude   latitude  \n",
       "0 -117.169281  32.713603  \n",
       "1 -117.169281  32.713603  "
      ]
     },
     "execution_count": 6,
     "metadata": {},
     "output_type": "execute_result"
    }
   ],
   "source": [
    "#We will use a parking data set we're familiar with from the San Diego Open Data Set portal.\n",
    "\n",
    "df = pd.read_csv('subregion.csv')\n",
    "\n",
    "#Jupyter recognizes Pandas dataframes and will autimatically pretty print for our analysis\n",
    "\n",
    "df.head(2)"
   ]
  },
  {
   "cell_type": "markdown",
   "metadata": {},
   "source": [
    "<p><h3>Data Cleaning and Manipulation:</h3></p>\n",
    "<p>You're interested in the availability of parking by hour. Hours during commute times are most important to your as that is when you move your car. To perform this analysis, you will clean and segment the dataset.</p>"
   ]
  },
  {
   "cell_type": "code",
   "execution_count": 7,
   "metadata": {
    "collapsed": false,
    "scrolled": true
   },
   "outputs": [
    {
     "name": "stdout",
     "output_type": "stream",
     "text": [
      "The data starts on: 2016-01-01\n",
      "The data ends on: 2016-12-31\n"
     ]
    }
   ],
   "source": [
    "#To do so, You will create a start hour column from the dataframe. You will also create a separate column to hold the individual dates.\n",
    "\n",
    "df['start_timestamp'] = pd.to_datetime(df['trans_start'], format='%Y-%m-%d %H:%M:%S')\n",
    "df['expire_timestamp'] = pd.to_datetime(df['meter_expire'], format='%Y-%m-%d %H:%M:%S')\n",
    "df['start_hour'] = df['start_timestamp'].apply(lambda x: x.hour)\n",
    "df['date'] = df['start_timestamp'].apply(lambda x: x.date())\n",
    "\n",
    "#Let's determine the start date and end date of our data\n",
    "\n",
    "print(\"The data starts on: \" + str(df['date'].min()))\n",
    "print(\"The data ends on: \" + str(df['date'].max()))\n",
    "\n",
    "#Finally, You will calculate the duration of parkers at the parking meter\n",
    "\n",
    "durations = df['expire_timestamp'] - df['start_timestamp']\n",
    "df['duration'] = durations.apply(lambda x:x.seconds/60**2)"
   ]
  },
  {
   "cell_type": "markdown",
   "metadata": {},
   "source": [
    "<p>Select your parking meter (WB500N) and compile summary statistics for the meter including: Number of transactions, Duration of Transactions, & Standard Deviation of Transaction Duration:</p>"
   ]
  },
  {
   "cell_type": "code",
   "execution_count": 8,
   "metadata": {
    "collapsed": false
   },
   "outputs": [],
   "source": [
    "#My preferred parking spot is WB-500N\n",
    "\n",
    "WB500N = 'WB-500N'\n",
    "\n",
    "#poleId0 = 'WB-500N'\n",
    "\n",
    "dfCountWB = np.array(df[df['pole_id'] == WB500N].groupby('start_hour')['uuid'].count().values, dtype=np.float32)\n",
    "dfDurationWB = np.array(df[df['pole_id'] == WB500N].groupby('start_hour')['duration'].mean(), dtype=np.float32)\n",
    "dfDurationStdWB = np.array(df[df['pole_id'] == WB500N].groupby('start_hour')['duration'].std(), dtype=np.float32)"
   ]
  },
  {
   "cell_type": "markdown",
   "metadata": {
    "collapsed": true
   },
   "source": [
    "Plot the mean parking durations and their standard deviations at various times during the day:"
   ]
  },
  {
   "cell_type": "code",
   "execution_count": 9,
   "metadata": {
    "collapsed": false
   },
   "outputs": [
    {
     "data": {
      "image/png": "[encoded data removed]",
      "text/plain": [
       "<matplotlib.figure.Figure at 0x1c2e261208>"
      ]
     },
     "metadata": {},
     "output_type": "display_data"
    }
   ],
   "source": [
    "fig, ax = plt.subplots()\n",
    "plt.bar(range(12), height=dfDurationWB, yerr=dfDurationStdWB)\n",
    "plt.title(\"Parking Stay Duration - Variability\")\n",
    "plt.xlabel(\"Hour\")\n",
    "plt.ylabel(\"Stay in Hours\")\n",
    "fig.set_size_inches(10, 7)\n",
    "plt.show()"
   ]
  },
  {
   "cell_type": "markdown",
   "metadata": {},
   "source": [
    "<p><h3>Probabilistic Model: Hamiltonian Monte Carlo</h3></p>\n",
    "<p>Interesting, it seems that people parking at 6 AM stay for nearly 2.75 hours on average. This could seriously hamper our ability to use the spot. But, is this sample truly representative of actual parking behavior? To determine that, we will implement a Hamiltonian Monte Carlo simulation. The simulation, takes a sample mean, sample standard deviation and degree of uncertainty. Then iterates and provides us with a more representative estimate of the true population. In your case, what we can actually expect from 6 AM parkers.</p>\n",
    "\n",
    "<p><i>We implemented the model in the 8-Schools TFP example. It can be found here for reference:\n",
    "https://github.com/tensorflow/probability/blob/master/tensorflow_probability/examples/jupyter_notebooks/Eight_Schools.ipynb</i>\n",
    "</p>\n"
   ]
  },
  {
   "cell_type": "markdown",
   "metadata": {},
   "source": [
    "<h4>Edward Probabilistic Model for Bayesian Inference</h4>"
   ]
  },
  {
   "cell_type": "markdown",
   "metadata": {},
   "source": [
    "<p>First, you must create a model that accounts for Bayesian uncertainty in your prior distribution. We assume each hour has a varying degree of independence called Tau, from 0 -> Tau -> INF. We create an Edward2 model, now integrated into TFP, to represent this.</p> "
   ]
  },
  {
   "cell_type": "code",
   "execution_count": 10,
   "metadata": {
    "collapsed": false
   },
   "outputs": [],
   "source": [
    "hours = 12\n",
    "def hoursModel(hours, dfDurationStdWB):\n",
    "  avg_effect = ed.Normal(loc=0., scale=10., name=\"avg_effect\")\n",
    "  avg_stddev = ed.Normal(\n",
    "      loc=5., scale=1., name=\"avg_stddev\")\n",
    "  duration_effects_standard = ed.Normal(\n",
    "      loc=tf.zeros(hours),\n",
    "      scale=tf.ones(hours),\n",
    "      name=\"duration_effects_standard\")\n",
    "  duration_effects = avg_effect + tf.exp(\n",
    "      avg_stddev) * duration_effects_standard  \n",
    "  dfDurationWB = ed.Normal(\n",
    "      loc=duration_effects, scale=dfDurationStdWB,\n",
    "      name=\"dfDurationWB\")  \n",
    "  return dfDurationWB\n",
    "\n",
    "\n",
    "model_template = tf.make_template(\"hoursModel\", hoursModel)\n",
    "log_joint = ed.make_log_joint_fn(model_template)\n",
    "\n",
    "\n",
    "def target_log_prob_fn(avg_effect, avg_stddev, duration_effects_standard):\n",
    "  \n",
    "  return log_joint(\n",
    "      hours=hours,\n",
    "      dfDurationStdWB=dfDurationStdWB,\n",
    "      avg_effect=avg_effect,\n",
    "      avg_stddev=avg_stddev,\n",
    "      duration_effects_standard=duration_effects_standard,\n",
    "      dfDurationWB=dfDurationWB)"
   ]
  },
  {
   "cell_type": "markdown",
   "metadata": {},
   "source": [
    "<h4>Tensor Flow Probability: Hamiltonian Monte Carlo</h4>"
   ]
  },
  {
   "cell_type": "markdown",
   "metadata": {},
   "source": [
    "<p>Next, we implement a HMC simulation and iterate. Given parameters, an HMC approximates a distribution from which you can draw samples. We use TFP to accomplish this.</p>"
   ]
  },
  {
   "cell_type": "code",
   "execution_count": 11,
   "metadata": {
    "collapsed": false
   },
   "outputs": [
    {
     "name": "stdout",
     "output_type": "stream",
     "text": [
      "Acceptance rate: 0.8644\n"
     ]
    }
   ],
   "source": [
    "#These parameters tell our model how many iterations to take.\n",
    "\n",
    "num_results = 5000\n",
    "num_burnin_steps = 3000\n",
    "\n",
    "states, kernel_results = tfp.mcmc.sample_chain(\n",
    "    num_results=num_results,\n",
    "    num_burnin_steps=num_burnin_steps,\n",
    "    current_state=[\n",
    "        tf.zeros([], name='init_avg_effect'),\n",
    "        tf.zeros([], name='init_avg_stddev'),\n",
    "        tf.ones([hours], name='init_duration_effects_standard'),\n",
    "    ],\n",
    "    kernel=tfp.mcmc.HamiltonianMonteCarlo(\n",
    "        target_log_prob_fn=target_log_prob_fn,\n",
    "        step_size=0.15, #We've altered the step size to establish a desired rejection rate\n",
    "        num_leapfrog_steps=3))\n",
    "\n",
    "avg_effect, avg_stddev, duration_effects_standard = states\n",
    "\n",
    "with tf.Session() as sess:\n",
    "  [\n",
    "      avg_effect_,\n",
    "      avg_stddev_,\n",
    "      duration_effects_standard_,\n",
    "      is_accepted_,\n",
    "  ] = sess.run([\n",
    "      avg_effect,\n",
    "      avg_stddev,\n",
    "      duration_effects_standard,\n",
    "      kernel_results.is_accepted,\n",
    "  ])\n",
    "\n",
    "duration_effects_samples = (\n",
    "    avg_effect_[:, np.newaxis] +\n",
    "    np.exp(avg_stddev_)[:, np.newaxis] * duration_effects_standard_)\n",
    "num_accepted = np.sum(is_accepted_)\n",
    "print('Acceptance rate: {}'.format(num_accepted / num_results))"
   ]
  },
  {
   "cell_type": "markdown",
   "metadata": {},
   "source": [
    "<h4>Let's review our posterior effects (w/ probabilistic uncertainty)</h4>"
   ]
  },
  {
   "cell_type": "markdown",
   "metadata": {},
   "source": [
    "<p>Given your Hamiltonian distribution, you generated a series of posterior distribution to compare to your observed distributions. Below, review them.</p>"
   ]
  },
  {
   "cell_type": "code",
   "execution_count": 12,
   "metadata": {
    "collapsed": false
   },
   "outputs": [
    {
     "name": "stdout",
     "output_type": "stream",
     "text": [
      "E[avg_effect] = 1.4907079935073853\n",
      "E[avg_stddev] = -0.19377215206623077\n",
      "E[duration_effects_standard] =\n",
      "[8.2897961e-01 2.6784974e-01 8.9554727e-02 7.9904019e-04 4.0111739e-02\n",
      " 1.2348465e-02 2.6855508e-02 3.6426242e-02 3.9221071e-02 4.1838411e-02\n",
      " 1.3964997e-01 1.0690494e+00]\n",
      "E[duration_effects] =\n",
      "[2.1909115  1.7173023  1.5691597  1.4923719  1.5198708  1.4656808\n",
      " 1.4617345  1.4550692  1.4502122  1.4525359  1.3673341  0.63691545]\n"
     ]
    }
   ],
   "source": [
    "print(\"E[avg_effect] = {}\".format(avg_effect_.mean()))\n",
    "print(\"E[avg_stddev] = {}\".format(avg_stddev_.mean()))\n",
    "print(\"E[duration_effects_standard] =\")\n",
    "print(abs(duration_effects_standard_[:, ].mean(0)))\n",
    "print(\"E[duration_effects] =\")\n",
    "print(duration_effects_samples[:, ].mean(0))"
   ]
  },
  {
   "cell_type": "markdown",
   "metadata": {},
   "source": [
    "<h3>Data Visualization: To Visualize the Posterior Distributions</h3>"
   ]
  },
  {
   "cell_type": "markdown",
   "metadata": {},
   "source": [
    "<p>Finally, visualize the prior and posterior distributions to determine whether you will move. You have added posterior 95% confidence intervals to your graph.</p>"
   ]
  },
  {
   "cell_type": "code",
   "execution_count": 13,
   "metadata": {
    "collapsed": false,
    "scrolled": true
   },
   "outputs": [
    {
     "data": {
      "image/png": "[encoded data removed]",
      "text/plain": [
       "<matplotlib.figure.Figure at 0x1c24e42dd8>"
      ]
     },
     "metadata": {},
     "output_type": "display_data"
    }
   ],
   "source": [
    "# Let's compute the 95% interval \n",
    "duration_effects_low = np.array([\n",
    "    np.percentile(duration_effects_samples[:, i], 2.5) for i in range(hours)\n",
    "])\n",
    "duration_effects_med = np.array([\n",
    "    np.percentile(duration_effects_samples[:, i], 50) for i in range(hours)\n",
    "])\n",
    "duration_effects_hi = np.array([\n",
    "    np.percentile(duration_effects_samples[:, i], 97.5)\n",
    "    for i in range(hours)\n",
    "])\n",
    "\n",
    "\n",
    "\n",
    "fig, ax = plt.subplots(nrows=1, ncols=1, sharex=True)\n",
    "ax.scatter(np.array(range(hours)), duration_effects_med, color='red', s=60)\n",
    "ax.scatter(\n",
    "    np.array(range(hours)) + 0.1, dfDurationWB, color='blue', s=60)\n",
    "\n",
    "avg_effect = avg_effect_.mean()\n",
    "\n",
    "plt.plot([0, 13], [avg_effect, avg_effect], 'k', linestyle='--')\n",
    "\n",
    "ax.errorbar(\n",
    "    np.array(range(12)),\n",
    "    duration_effects_med,\n",
    "    yerr=[\n",
    "        duration_effects_med - duration_effects_low,\n",
    "        duration_effects_hi - duration_effects_med\n",
    "    ],\n",
    "    fmt='none')\n",
    "\n",
    "ax.legend(('avg_effect', 'Edward2/HMC', 'Observed effect'), fontsize=14)\n",
    "\n",
    "plt.xlabel('Hour')\n",
    "plt.ylabel('Treatment effect')\n",
    "plt.title('Edward2 HMC estimated duration treatment effects vs. observed data')\n",
    "fig.set_size_inches(10, 8)\n",
    "plt.show()"
   ]
  },
  {
   "cell_type": "markdown",
   "metadata": {},
   "source": [
    "<p>As you can see, you can expect 6 AM parkers to spend less time in the spot moving forward. Great news! Given this convergence to the mean you will stay in your apartment.</p>"
   ]
  },
  {
   "cell_type": "code",
   "execution_count": null,
   "metadata": {
    "collapsed": true
   },
   "outputs": [],
   "source": []
  }
 ],
 "metadata": {
  "anaconda-cloud": {},
  "kernelspec": {
   "display_name": "Python [Root]",
   "language": "python",
   "name": "Python [Root]"
  },
  "language_info": {
   "codemirror_mode": {
    "name": "ipython",
    "version": 3
   },
   "file_extension": ".py",
   "mimetype": "text/x-python",
   "name": "python",
   "nbconvert_exporter": "python",
   "pygments_lexer": "ipython3",
   "version": "3.5.2"
  }
 },
 "nbformat": 4,
 "nbformat_minor": 2
}
